{
  "nbformat": 4,
  "nbformat_minor": 0,
  "metadata": {
    "colab": {
      "name": "technotrek_homework_5_v2.ipynb",
      "provenance": [],
      "collapsed_sections": []
    },
    "kernelspec": {
      "name": "python3",
      "display_name": "Python 3"
    },
    "language_info": {
      "name": "python"
    },
    "widgets": {
      "application/vnd.jupyter.widget-state+json": {
        "0155724cdce140488a2ff167855b756e": {
          "model_module": "@jupyter-widgets/controls",
          "model_name": "HBoxModel",
          "state": {
            "_view_name": "HBoxView",
            "_dom_classes": [],
            "_model_name": "HBoxModel",
            "_view_module": "@jupyter-widgets/controls",
            "_model_module_version": "1.5.0",
            "_view_count": null,
            "_view_module_version": "1.5.0",
            "box_style": "",
            "layout": "IPY_MODEL_7b34ab958ffb4bb68d1babce08cd50e1",
            "_model_module": "@jupyter-widgets/controls",
            "children": [
              "IPY_MODEL_cbef34cec1f844e48868857d09016ddc",
              "IPY_MODEL_ac8728ce5bc24bdda480fc5e66132958"
            ]
          }
        },
        "7b34ab958ffb4bb68d1babce08cd50e1": {
          "model_module": "@jupyter-widgets/base",
          "model_name": "LayoutModel",
          "state": {
            "_view_name": "LayoutView",
            "grid_template_rows": null,
            "right": null,
            "justify_content": null,
            "_view_module": "@jupyter-widgets/base",
            "overflow": null,
            "_model_module_version": "1.2.0",
            "_view_count": null,
            "flex_flow": null,
            "width": null,
            "min_width": null,
            "border": null,
            "align_items": null,
            "bottom": null,
            "_model_module": "@jupyter-widgets/base",
            "top": null,
            "grid_column": null,
            "overflow_y": null,
            "overflow_x": null,
            "grid_auto_flow": null,
            "grid_area": null,
            "grid_template_columns": null,
            "flex": null,
            "_model_name": "LayoutModel",
            "justify_items": null,
            "grid_row": null,
            "max_height": null,
            "align_content": null,
            "visibility": null,
            "align_self": null,
            "height": null,
            "min_height": null,
            "padding": null,
            "grid_auto_rows": null,
            "grid_gap": null,
            "max_width": null,
            "order": null,
            "_view_module_version": "1.2.0",
            "grid_template_areas": null,
            "object_position": null,
            "object_fit": null,
            "grid_auto_columns": null,
            "margin": null,
            "display": null,
            "left": null
          }
        },
        "cbef34cec1f844e48868857d09016ddc": {
          "model_module": "@jupyter-widgets/controls",
          "model_name": "FloatProgressModel",
          "state": {
            "_view_name": "ProgressView",
            "style": "IPY_MODEL_746d0b5e52364d8e88ebd2491aecd813",
            "_dom_classes": [],
            "description": "100%",
            "_model_name": "FloatProgressModel",
            "bar_style": "success",
            "max": 241530880,
            "_view_module": "@jupyter-widgets/controls",
            "_model_module_version": "1.5.0",
            "value": 241530880,
            "_view_count": null,
            "_view_module_version": "1.5.0",
            "orientation": "horizontal",
            "min": 0,
            "description_tooltip": null,
            "_model_module": "@jupyter-widgets/controls",
            "layout": "IPY_MODEL_eb55375d1ffe42e582fba566a1a5d381"
          }
        },
        "ac8728ce5bc24bdda480fc5e66132958": {
          "model_module": "@jupyter-widgets/controls",
          "model_name": "HTMLModel",
          "state": {
            "_view_name": "HTMLView",
            "style": "IPY_MODEL_3bc0c50de617431f9edf6e6ed397ee36",
            "_dom_classes": [],
            "description": "",
            "_model_name": "HTMLModel",
            "placeholder": "​",
            "_view_module": "@jupyter-widgets/controls",
            "_model_module_version": "1.5.0",
            "value": " 230M/230M [00:02&lt;00:00, 110MB/s]",
            "_view_count": null,
            "_view_module_version": "1.5.0",
            "description_tooltip": null,
            "_model_module": "@jupyter-widgets/controls",
            "layout": "IPY_MODEL_0f4b7ad5af244c1fa146993775c3916f"
          }
        },
        "746d0b5e52364d8e88ebd2491aecd813": {
          "model_module": "@jupyter-widgets/controls",
          "model_name": "ProgressStyleModel",
          "state": {
            "_view_name": "StyleView",
            "_model_name": "ProgressStyleModel",
            "description_width": "initial",
            "_view_module": "@jupyter-widgets/base",
            "_model_module_version": "1.5.0",
            "_view_count": null,
            "_view_module_version": "1.2.0",
            "bar_color": null,
            "_model_module": "@jupyter-widgets/controls"
          }
        },
        "eb55375d1ffe42e582fba566a1a5d381": {
          "model_module": "@jupyter-widgets/base",
          "model_name": "LayoutModel",
          "state": {
            "_view_name": "LayoutView",
            "grid_template_rows": null,
            "right": null,
            "justify_content": null,
            "_view_module": "@jupyter-widgets/base",
            "overflow": null,
            "_model_module_version": "1.2.0",
            "_view_count": null,
            "flex_flow": null,
            "width": null,
            "min_width": null,
            "border": null,
            "align_items": null,
            "bottom": null,
            "_model_module": "@jupyter-widgets/base",
            "top": null,
            "grid_column": null,
            "overflow_y": null,
            "overflow_x": null,
            "grid_auto_flow": null,
            "grid_area": null,
            "grid_template_columns": null,
            "flex": null,
            "_model_name": "LayoutModel",
            "justify_items": null,
            "grid_row": null,
            "max_height": null,
            "align_content": null,
            "visibility": null,
            "align_self": null,
            "height": null,
            "min_height": null,
            "padding": null,
            "grid_auto_rows": null,
            "grid_gap": null,
            "max_width": null,
            "order": null,
            "_view_module_version": "1.2.0",
            "grid_template_areas": null,
            "object_position": null,
            "object_fit": null,
            "grid_auto_columns": null,
            "margin": null,
            "display": null,
            "left": null
          }
        },
        "3bc0c50de617431f9edf6e6ed397ee36": {
          "model_module": "@jupyter-widgets/controls",
          "model_name": "DescriptionStyleModel",
          "state": {
            "_view_name": "StyleView",
            "_model_name": "DescriptionStyleModel",
            "description_width": "",
            "_view_module": "@jupyter-widgets/base",
            "_model_module_version": "1.5.0",
            "_view_count": null,
            "_view_module_version": "1.2.0",
            "_model_module": "@jupyter-widgets/controls"
          }
        },
        "0f4b7ad5af244c1fa146993775c3916f": {
          "model_module": "@jupyter-widgets/base",
          "model_name": "LayoutModel",
          "state": {
            "_view_name": "LayoutView",
            "grid_template_rows": null,
            "right": null,
            "justify_content": null,
            "_view_module": "@jupyter-widgets/base",
            "overflow": null,
            "_model_module_version": "1.2.0",
            "_view_count": null,
            "flex_flow": null,
            "width": null,
            "min_width": null,
            "border": null,
            "align_items": null,
            "bottom": null,
            "_model_module": "@jupyter-widgets/base",
            "top": null,
            "grid_column": null,
            "overflow_y": null,
            "overflow_x": null,
            "grid_auto_flow": null,
            "grid_area": null,
            "grid_template_columns": null,
            "flex": null,
            "_model_name": "LayoutModel",
            "justify_items": null,
            "grid_row": null,
            "max_height": null,
            "align_content": null,
            "visibility": null,
            "align_self": null,
            "height": null,
            "min_height": null,
            "padding": null,
            "grid_auto_rows": null,
            "grid_gap": null,
            "max_width": null,
            "order": null,
            "_view_module_version": "1.2.0",
            "grid_template_areas": null,
            "object_position": null,
            "object_fit": null,
            "grid_auto_columns": null,
            "margin": null,
            "display": null,
            "left": null
          }
        },
        "a0139cbe3876443da28a01f2f4cc90be": {
          "model_module": "@jupyter-widgets/controls",
          "model_name": "HBoxModel",
          "state": {
            "_view_name": "HBoxView",
            "_dom_classes": [],
            "_model_name": "HBoxModel",
            "_view_module": "@jupyter-widgets/controls",
            "_model_module_version": "1.5.0",
            "_view_count": null,
            "_view_module_version": "1.5.0",
            "box_style": "",
            "layout": "IPY_MODEL_5cd994105d764da585e96a6e69b89159",
            "_model_module": "@jupyter-widgets/controls",
            "children": [
              "IPY_MODEL_4f5278b1da864906a770bdc821e4961a",
              "IPY_MODEL_b78e7c00015445d7bfb4cbb06dd5dfe7"
            ]
          }
        },
        "5cd994105d764da585e96a6e69b89159": {
          "model_module": "@jupyter-widgets/base",
          "model_name": "LayoutModel",
          "state": {
            "_view_name": "LayoutView",
            "grid_template_rows": null,
            "right": null,
            "justify_content": null,
            "_view_module": "@jupyter-widgets/base",
            "overflow": null,
            "_model_module_version": "1.2.0",
            "_view_count": null,
            "flex_flow": null,
            "width": null,
            "min_width": null,
            "border": null,
            "align_items": null,
            "bottom": null,
            "_model_module": "@jupyter-widgets/base",
            "top": null,
            "grid_column": null,
            "overflow_y": null,
            "overflow_x": null,
            "grid_auto_flow": null,
            "grid_area": null,
            "grid_template_columns": null,
            "flex": null,
            "_model_name": "LayoutModel",
            "justify_items": null,
            "grid_row": null,
            "max_height": null,
            "align_content": null,
            "visibility": null,
            "align_self": null,
            "height": null,
            "min_height": null,
            "padding": null,
            "grid_auto_rows": null,
            "grid_gap": null,
            "max_width": null,
            "order": null,
            "_view_module_version": "1.2.0",
            "grid_template_areas": null,
            "object_position": null,
            "object_fit": null,
            "grid_auto_columns": null,
            "margin": null,
            "display": null,
            "left": null
          }
        },
        "4f5278b1da864906a770bdc821e4961a": {
          "model_module": "@jupyter-widgets/controls",
          "model_name": "FloatProgressModel",
          "state": {
            "_view_name": "ProgressView",
            "style": "IPY_MODEL_20a1ac5530064cc49a36bf767ccc9780",
            "_dom_classes": [],
            "description": "1/1 * Epoch (train):  35%",
            "_model_name": "FloatProgressModel",
            "bar_style": "",
            "max": 1044,
            "_view_module": "@jupyter-widgets/controls",
            "_model_module_version": "1.5.0",
            "value": 363,
            "_view_count": null,
            "_view_module_version": "1.5.0",
            "orientation": "horizontal",
            "min": 0,
            "description_tooltip": null,
            "_model_module": "@jupyter-widgets/controls",
            "layout": "IPY_MODEL_6744f3f9495c456b802bcdba7352b591"
          }
        },
        "b78e7c00015445d7bfb4cbb06dd5dfe7": {
          "model_module": "@jupyter-widgets/controls",
          "model_name": "HTMLModel",
          "state": {
            "_view_name": "HTMLView",
            "style": "IPY_MODEL_c5169dc292ca49e8a2366eb74e2655b4",
            "_dom_classes": [],
            "description": "",
            "_model_name": "HTMLModel",
            "placeholder": "​",
            "_view_module": "@jupyter-widgets/controls",
            "_model_module_version": "1.5.0",
            "value": " 363/1044 [2:00:14&lt;3:18:31, 17.49s/it, accuracy=0.493, accuracy01=0.493, loss=1.459, lr=1.000e-03, momentum=0.900]",
            "_view_count": null,
            "_view_module_version": "1.5.0",
            "description_tooltip": null,
            "_model_module": "@jupyter-widgets/controls",
            "layout": "IPY_MODEL_2b85419392bb4ef9975a67143bd0d5b3"
          }
        },
        "20a1ac5530064cc49a36bf767ccc9780": {
          "model_module": "@jupyter-widgets/controls",
          "model_name": "ProgressStyleModel",
          "state": {
            "_view_name": "StyleView",
            "_model_name": "ProgressStyleModel",
            "description_width": "initial",
            "_view_module": "@jupyter-widgets/base",
            "_model_module_version": "1.5.0",
            "_view_count": null,
            "_view_module_version": "1.2.0",
            "bar_color": null,
            "_model_module": "@jupyter-widgets/controls"
          }
        },
        "6744f3f9495c456b802bcdba7352b591": {
          "model_module": "@jupyter-widgets/base",
          "model_name": "LayoutModel",
          "state": {
            "_view_name": "LayoutView",
            "grid_template_rows": null,
            "right": null,
            "justify_content": null,
            "_view_module": "@jupyter-widgets/base",
            "overflow": null,
            "_model_module_version": "1.2.0",
            "_view_count": null,
            "flex_flow": null,
            "width": null,
            "min_width": null,
            "border": null,
            "align_items": null,
            "bottom": null,
            "_model_module": "@jupyter-widgets/base",
            "top": null,
            "grid_column": null,
            "overflow_y": null,
            "overflow_x": null,
            "grid_auto_flow": null,
            "grid_area": null,
            "grid_template_columns": null,
            "flex": null,
            "_model_name": "LayoutModel",
            "justify_items": null,
            "grid_row": null,
            "max_height": null,
            "align_content": null,
            "visibility": null,
            "align_self": null,
            "height": null,
            "min_height": null,
            "padding": null,
            "grid_auto_rows": null,
            "grid_gap": null,
            "max_width": null,
            "order": null,
            "_view_module_version": "1.2.0",
            "grid_template_areas": null,
            "object_position": null,
            "object_fit": null,
            "grid_auto_columns": null,
            "margin": null,
            "display": null,
            "left": null
          }
        },
        "c5169dc292ca49e8a2366eb74e2655b4": {
          "model_module": "@jupyter-widgets/controls",
          "model_name": "DescriptionStyleModel",
          "state": {
            "_view_name": "StyleView",
            "_model_name": "DescriptionStyleModel",
            "description_width": "",
            "_view_module": "@jupyter-widgets/base",
            "_model_module_version": "1.5.0",
            "_view_count": null,
            "_view_module_version": "1.2.0",
            "_model_module": "@jupyter-widgets/controls"
          }
        },
        "2b85419392bb4ef9975a67143bd0d5b3": {
          "model_module": "@jupyter-widgets/base",
          "model_name": "LayoutModel",
          "state": {
            "_view_name": "LayoutView",
            "grid_template_rows": null,
            "right": null,
            "justify_content": null,
            "_view_module": "@jupyter-widgets/base",
            "overflow": null,
            "_model_module_version": "1.2.0",
            "_view_count": null,
            "flex_flow": null,
            "width": null,
            "min_width": null,
            "border": null,
            "align_items": null,
            "bottom": null,
            "_model_module": "@jupyter-widgets/base",
            "top": null,
            "grid_column": null,
            "overflow_y": null,
            "overflow_x": null,
            "grid_auto_flow": null,
            "grid_area": null,
            "grid_template_columns": null,
            "flex": null,
            "_model_name": "LayoutModel",
            "justify_items": null,
            "grid_row": null,
            "max_height": null,
            "align_content": null,
            "visibility": null,
            "align_self": null,
            "height": null,
            "min_height": null,
            "padding": null,
            "grid_auto_rows": null,
            "grid_gap": null,
            "max_width": null,
            "order": null,
            "_view_module_version": "1.2.0",
            "grid_template_areas": null,
            "object_position": null,
            "object_fit": null,
            "grid_auto_columns": null,
            "margin": null,
            "display": null,
            "left": null
          }
        }
      }
    },
    "accelerator": "GPU"
  },
  "cells": [
    {
      "cell_type": "code",
      "metadata": {
        "colab": {
          "base_uri": "https://localhost:8080/"
        },
        "id": "gxfjbceQAs8g",
        "outputId": "867c9034-34e9-4f21-c647-531a14edd7f4"
      },
      "source": [
        "!nvidia-smi"
      ],
      "execution_count": 1,
      "outputs": [
        {
          "output_type": "stream",
          "text": [
            "Mon May  3 12:52:01 2021       \n",
            "+-----------------------------------------------------------------------------+\n",
            "| NVIDIA-SMI 465.19.01    Driver Version: 460.32.03    CUDA Version: 11.2     |\n",
            "|-------------------------------+----------------------+----------------------+\n",
            "| GPU  Name        Persistence-M| Bus-Id        Disp.A | Volatile Uncorr. ECC |\n",
            "| Fan  Temp  Perf  Pwr:Usage/Cap|         Memory-Usage | GPU-Util  Compute M. |\n",
            "|                               |                      |               MIG M. |\n",
            "|===============================+======================+======================|\n",
            "|   0  Tesla T4            Off  | 00000000:00:04.0 Off |                    0 |\n",
            "| N/A   47C    P8    11W /  70W |      0MiB / 15109MiB |      0%      Default |\n",
            "|                               |                      |                  N/A |\n",
            "+-------------------------------+----------------------+----------------------+\n",
            "                                                                               \n",
            "+-----------------------------------------------------------------------------+\n",
            "| Processes:                                                                  |\n",
            "|  GPU   GI   CI        PID   Type   Process name                  GPU Memory |\n",
            "|        ID   ID                                                   Usage      |\n",
            "|=============================================================================|\n",
            "|  No running processes found                                                 |\n",
            "+-----------------------------------------------------------------------------+\n"
          ],
          "name": "stdout"
        }
      ]
    },
    {
      "cell_type": "code",
      "metadata": {
        "colab": {
          "base_uri": "https://localhost:8080/"
        },
        "id": "6NT3S5eRGYKb",
        "outputId": "c50e8ca1-6f23-474e-9d3b-7d7dad58c1c3"
      },
      "source": [
        "!pip install -U git+https://github.com/albu/albumentations --no-cache-dir"
      ],
      "execution_count": 2,
      "outputs": [
        {
          "output_type": "stream",
          "text": [
            "Collecting git+https://github.com/albu/albumentations\n",
            "  Cloning https://github.com/albu/albumentations to /tmp/pip-req-build-t6y4vcog\n",
            "  Running command git clone -q https://github.com/albu/albumentations /tmp/pip-req-build-t6y4vcog\n",
            "Requirement already satisfied, skipping upgrade: numpy>=1.11.1 in /usr/local/lib/python3.7/dist-packages (from albumentations==0.5.2) (1.19.5)\n",
            "Requirement already satisfied, skipping upgrade: scipy in /usr/local/lib/python3.7/dist-packages (from albumentations==0.5.2) (1.4.1)\n",
            "Requirement already satisfied, skipping upgrade: scikit-image>=0.16.1 in /usr/local/lib/python3.7/dist-packages (from albumentations==0.5.2) (0.16.2)\n",
            "Requirement already satisfied, skipping upgrade: imgaug>=0.4.0 in /usr/local/lib/python3.7/dist-packages (from albumentations==0.5.2) (0.4.0)\n",
            "Requirement already satisfied, skipping upgrade: PyYAML in /usr/local/lib/python3.7/dist-packages (from albumentations==0.5.2) (5.4.1)\n",
            "Requirement already satisfied, skipping upgrade: opencv-python>=4.1.1 in /usr/local/lib/python3.7/dist-packages (from albumentations==0.5.2) (4.1.2.30)\n",
            "Requirement already satisfied, skipping upgrade: networkx>=2.0 in /usr/local/lib/python3.7/dist-packages (from scikit-image>=0.16.1->albumentations==0.5.2) (2.5.1)\n",
            "Requirement already satisfied, skipping upgrade: PyWavelets>=0.4.0 in /usr/local/lib/python3.7/dist-packages (from scikit-image>=0.16.1->albumentations==0.5.2) (1.1.1)\n",
            "Requirement already satisfied, skipping upgrade: pillow>=4.3.0 in /usr/local/lib/python3.7/dist-packages (from scikit-image>=0.16.1->albumentations==0.5.2) (7.1.2)\n",
            "Requirement already satisfied, skipping upgrade: matplotlib!=3.0.0,>=2.0.0 in /usr/local/lib/python3.7/dist-packages (from scikit-image>=0.16.1->albumentations==0.5.2) (3.2.2)\n",
            "Requirement already satisfied, skipping upgrade: imageio>=2.3.0 in /usr/local/lib/python3.7/dist-packages (from scikit-image>=0.16.1->albumentations==0.5.2) (2.4.1)\n",
            "Requirement already satisfied, skipping upgrade: Shapely in /usr/local/lib/python3.7/dist-packages (from imgaug>=0.4.0->albumentations==0.5.2) (1.7.1)\n",
            "Requirement already satisfied, skipping upgrade: six in /usr/local/lib/python3.7/dist-packages (from imgaug>=0.4.0->albumentations==0.5.2) (1.15.0)\n",
            "Requirement already satisfied, skipping upgrade: decorator<5,>=4.3 in /usr/local/lib/python3.7/dist-packages (from networkx>=2.0->scikit-image>=0.16.1->albumentations==0.5.2) (4.4.2)\n",
            "Requirement already satisfied, skipping upgrade: python-dateutil>=2.1 in /usr/local/lib/python3.7/dist-packages (from matplotlib!=3.0.0,>=2.0.0->scikit-image>=0.16.1->albumentations==0.5.2) (2.8.1)\n",
            "Requirement already satisfied, skipping upgrade: cycler>=0.10 in /usr/local/lib/python3.7/dist-packages (from matplotlib!=3.0.0,>=2.0.0->scikit-image>=0.16.1->albumentations==0.5.2) (0.10.0)\n",
            "Requirement already satisfied, skipping upgrade: kiwisolver>=1.0.1 in /usr/local/lib/python3.7/dist-packages (from matplotlib!=3.0.0,>=2.0.0->scikit-image>=0.16.1->albumentations==0.5.2) (1.3.1)\n",
            "Requirement already satisfied, skipping upgrade: pyparsing!=2.0.4,!=2.1.2,!=2.1.6,>=2.0.1 in /usr/local/lib/python3.7/dist-packages (from matplotlib!=3.0.0,>=2.0.0->scikit-image>=0.16.1->albumentations==0.5.2) (2.4.7)\n",
            "Building wheels for collected packages: albumentations\n",
            "  Building wheel for albumentations (setup.py) ... \u001b[?25l\u001b[?25hdone\n",
            "  Created wheel for albumentations: filename=albumentations-0.5.2-cp37-none-any.whl size=89441 sha256=7eb187f3f35415b216c4baebde037dd3de80ae5d3f217e8cd7a0a993016efed3\n",
            "  Stored in directory: /tmp/pip-ephem-wheel-cache-iq_klbpo/wheels/45/8b/e4/2837bbcf517d00732b8e394f8646f22b8723ac00993230188b\n",
            "Successfully built albumentations\n",
            "Installing collected packages: albumentations\n",
            "  Found existing installation: albumentations 0.5.2\n",
            "    Uninstalling albumentations-0.5.2:\n",
            "      Successfully uninstalled albumentations-0.5.2\n",
            "Successfully installed albumentations-0.5.2\n"
          ],
          "name": "stdout"
        }
      ]
    },
    {
      "cell_type": "code",
      "metadata": {
        "colab": {
          "base_uri": "https://localhost:8080/"
        },
        "id": "Y3MYyv7k-Qys",
        "outputId": "d438c632-835f-4d32-90ba-80d9258199c8"
      },
      "source": [
        "!pip install -U catalyst"
      ],
      "execution_count": 3,
      "outputs": [
        {
          "output_type": "stream",
          "text": [
            "Requirement already up-to-date: catalyst in /usr/local/lib/python3.7/dist-packages (21.4.2)\n",
            "Requirement already satisfied, skipping upgrade: tqdm>=4.33.0 in /usr/local/lib/python3.7/dist-packages (from catalyst) (4.41.1)\n",
            "Requirement already satisfied, skipping upgrade: tensorboardX>=2.1.0 in /usr/local/lib/python3.7/dist-packages (from catalyst) (2.2)\n",
            "Requirement already satisfied, skipping upgrade: numpy>=1.18 in /usr/local/lib/python3.7/dist-packages (from catalyst) (1.19.5)\n",
            "Requirement already satisfied, skipping upgrade: torch>=1.3.0 in /usr/local/lib/python3.7/dist-packages (from catalyst) (1.8.1+cu101)\n",
            "Requirement already satisfied, skipping upgrade: PyYAML>=5.1 in /usr/local/lib/python3.7/dist-packages (from catalyst) (5.4.1)\n",
            "Requirement already satisfied, skipping upgrade: protobuf>=3.8.0 in /usr/local/lib/python3.7/dist-packages (from tensorboardX>=2.1.0->catalyst) (3.12.4)\n",
            "Requirement already satisfied, skipping upgrade: typing-extensions in /usr/local/lib/python3.7/dist-packages (from torch>=1.3.0->catalyst) (3.7.4.3)\n",
            "Requirement already satisfied, skipping upgrade: six>=1.9 in /usr/local/lib/python3.7/dist-packages (from protobuf>=3.8.0->tensorboardX>=2.1.0->catalyst) (1.15.0)\n",
            "Requirement already satisfied, skipping upgrade: setuptools in /usr/local/lib/python3.7/dist-packages (from protobuf>=3.8.0->tensorboardX>=2.1.0->catalyst) (56.0.0)\n"
          ],
          "name": "stdout"
        }
      ]
    },
    {
      "cell_type": "code",
      "metadata": {
        "colab": {
          "base_uri": "https://localhost:8080/"
        },
        "id": "CYkBZt8YUrXe",
        "outputId": "88cc99e5-ad9d-4e7d-9e51-91163cb5b32f"
      },
      "source": [
        "!pip install spacecutter"
      ],
      "execution_count": 4,
      "outputs": [
        {
          "output_type": "stream",
          "text": [
            "Requirement already satisfied: spacecutter in /usr/local/lib/python3.7/dist-packages (0.2.0)\n",
            "Requirement already satisfied: torch>=1.1.0 in /usr/local/lib/python3.7/dist-packages (from spacecutter) (1.8.1+cu101)\n",
            "Requirement already satisfied: numpy in /usr/local/lib/python3.7/dist-packages (from spacecutter) (1.19.5)\n",
            "Requirement already satisfied: typing-extensions in /usr/local/lib/python3.7/dist-packages (from torch>=1.1.0->spacecutter) (3.7.4.3)\n"
          ],
          "name": "stdout"
        }
      ]
    },
    {
      "cell_type": "code",
      "metadata": {
        "id": "oWBuCtBq9xtj"
      },
      "source": [
        "import os\n",
        "from typing import Optional, Tuple, Callable\n",
        "\n",
        "import torch\n",
        "import torchvision\n",
        "torchvision.set_image_backend('accimage')\n",
        "import torch.nn as nn\n",
        "import torch.nn.functional as F\n",
        "from torch.utils.data import Dataset, DataLoader\n",
        "\n",
        "import albumentations as A\n",
        "from albumentations.pytorch import ToTensorV2\n",
        "\n",
        "import cv2\n",
        "from google.colab.patches import cv2_imshow\n",
        "\n",
        "import catalyst\n",
        "from catalyst import dl, utils\n",
        "\n",
        "from tqdm.notebook import tqdm\n",
        "import pandas as pd\n",
        "\n",
        "from spacecutter.models import OrdinalLogisticModel, LogisticCumulativeLink\n",
        "from spacecutter.losses import CumulativeLinkLoss\n",
        "# from spacecutter.callbacks import AscensionCallback\n",
        "\n",
        "from matplotlib import colors, pyplot as plt\n",
        "%matplotlib inline"
      ],
      "execution_count": 5,
      "outputs": []
    },
    {
      "cell_type": "code",
      "metadata": {
        "id": "z3EJfWNLHIS5"
      },
      "source": [
        "assert A.__version__ == '0.5.2'"
      ],
      "execution_count": 6,
      "outputs": []
    },
    {
      "cell_type": "code",
      "metadata": {
        "id": "G1h17Ysm-L4p"
      },
      "source": [
        "import numpy as np\n",
        "np.random.seed(123)\n",
        "import random\n",
        "random.seed(123)\n",
        "torch.backends.cudnn.deterministic = True\n",
        "torch.manual_seed(123)\n",
        "torch.cuda.manual_seed(123)"
      ],
      "execution_count": 7,
      "outputs": []
    },
    {
      "cell_type": "code",
      "metadata": {
        "colab": {
          "base_uri": "https://localhost:8080/"
        },
        "id": "0O000-7VRweq",
        "outputId": "0b159f20-d5d5-4609-bb96-b945dfd79ebf"
      },
      "source": [
        "from google.colab import drive\n",
        "drive.mount('/content/gdrive/')"
      ],
      "execution_count": 8,
      "outputs": [
        {
          "output_type": "stream",
          "text": [
            "Drive already mounted at /content/gdrive/; to attempt to forcibly remount, call drive.mount(\"/content/gdrive/\", force_remount=True).\n"
          ],
          "name": "stdout"
        }
      ]
    },
    {
      "cell_type": "code",
      "metadata": {
        "colab": {
          "base_uri": "https://localhost:8080/",
          "height": 35
        },
        "id": "Bfw5xMMO-PDF",
        "outputId": "2fc5e356-4d5a-4fba-8afe-d057f53bb456"
      },
      "source": [
        "device = \"cuda\" if torch.cuda.is_available() else \"cpu\"\n",
        "device"
      ],
      "execution_count": 9,
      "outputs": [
        {
          "output_type": "execute_result",
          "data": {
            "application/vnd.google.colaboratory.intrinsic+json": {
              "type": "string"
            },
            "text/plain": [
              "'cuda'"
            ]
          },
          "metadata": {
            "tags": []
          },
          "execution_count": 9
        }
      ]
    },
    {
      "cell_type": "code",
      "metadata": {
        "id": "vwarZ34NFLDc"
      },
      "source": [
        "class TCCDataset(Dataset):\n",
        "    def __init__(self,\n",
        "                 image_paths: np.array,\n",
        "                 masks_paths: np.array,\n",
        "                 labels: np.array = None,\n",
        "                 mode: str = 'train'):\n",
        "        self.image_paths = image_paths\n",
        "        self.masks_paths = masks_paths\n",
        "        self.labels = labels\n",
        "        assert mode in ['train', 'valid', 'test'], \"wrong mode, should be 'train', 'valid' or 'test\"\n",
        "        self.mode = mode\n",
        "        # maybe grayscale is better?\n",
        "        self.train_transforms = A.Compose([\n",
        "            A.Rotate(limit=180, border_mode=cv2.BORDER_CONSTANT, value=0),\n",
        "            A.HorizontalFlip(),\n",
        "            A.VerticalFlip(),\n",
        "            A.ColorJitter(0.3, 0.3, 0.3, 0),\n",
        "            A.Normalize([0.485, 0.456, 0.406], [0.229, 0.224, 0.225]),\n",
        "            A.pytorch.ToTensorV2() \n",
        "        ])\n",
        "        self.valid_transforms = A.Compose([                                           \n",
        "            A.Normalize([0.485, 0.456, 0.406], [0.229, 0.224, 0.225]),\n",
        "            A.pytorch.ToTensorV2()  \n",
        "        ])\n",
        "\n",
        "    def __len__(self) -> int:\n",
        "        return self.labels.shape[0]\n",
        "\n",
        "    def load_sample(self, file: str) -> np.array:\n",
        "        image = cv2.imread(file)\n",
        "        image = cv2.cvtColor(image, cv2.COLOR_BGR2RGB)\n",
        "        return image\n",
        "\n",
        "    def _prepare_sample(self, image: np.array, mask: np.array) -> np.array:\n",
        "        # image = cv2.resize(image, dsize=(self.rescale_size, self.rescale_size))\n",
        "        # mask = cv2.resize(mask, dsize=(self.rescale_size, self.rescale_size))\n",
        "        mask_norm =  np.max(mask)\n",
        "        if mask_norm > 1:\n",
        "            return (image * (mask / mask_norm)).astype('uint8')\n",
        "        else:\n",
        "            return (image * mask).astype('uint8')\n",
        "\n",
        "    def __getitem__(self, item: int) -> Tuple[torch.Tensor, torch.Tensor] or torch.Tensor:\n",
        "        img = self.load_sample(self.image_paths[item])\n",
        "        mask = self.load_sample(self.masks_paths[item])\n",
        "        X = self._prepare_sample(img, mask)\n",
        "\n",
        "        if self.mode == 'train':\n",
        "            X = self.train_transforms(image=X)\n",
        "            return X['image'].to(device), torch.tensor(self.labels[item][...,None]).to(device)\n",
        "\n",
        "        elif self.mode == 'valid':\n",
        "            X = self.valid_transforms(image=X)\n",
        "            return X['image'].to(device), torch.tensor(self.labels[item][...,None]).to(device)\n",
        "\n",
        "        else:\n",
        "            X = self.valid_transforms(X)\n",
        "            return X.to(device)\n",
        "        "
      ],
      "execution_count": 10,
      "outputs": []
    },
    {
      "cell_type": "code",
      "metadata": {
        "id": "kiffM2zmRlJu"
      },
      "source": [
        "data_df = pd.read_csv('/content/gdrive/MyDrive/Deep_Learning/technotrek_spring_2021/homework_5/index_upd.csv')"
      ],
      "execution_count": 11,
      "outputs": []
    },
    {
      "cell_type": "code",
      "metadata": {
        "id": "pXxNmOhrVmSh"
      },
      "source": [
        "data_df['full_filename'] = data_df['full_filename'].apply(lambda x: x.replace('\\\\', '/'))\n",
        "data_df['mask_fname'] = data_df['mask_fname'].apply(lambda x: './data/' + x)\n",
        "data_df['resized_full_filename'] = data_df['full_filename'].apply(lambda x: x.replace('./data', './resized_data'))\n",
        "data_df['resized_mask_fname'] = data_df['mask_fname'].apply(lambda x: x.replace('./data', './resized_data'))"
      ],
      "execution_count": 12,
      "outputs": []
    },
    {
      "cell_type": "code",
      "metadata": {
        "colab": {
          "base_uri": "https://localhost:8080/"
        },
        "id": "6yMGqJ25T_hp",
        "outputId": "2265eaeb-7efa-4a8d-972b-aba24fcc3aaf"
      },
      "source": [
        "% cd gdrive/MyDrive/Deep_Learning/technotrek_spring_2021/homework_5"
      ],
      "execution_count": 13,
      "outputs": [
        {
          "output_type": "stream",
          "text": [
            "/content/gdrive/MyDrive/Deep_Learning/technotrek_spring_2021/homework_5\n"
          ],
          "name": "stdout"
        }
      ]
    },
    {
      "cell_type": "code",
      "metadata": {
        "colab": {
          "base_uri": "https://localhost:8080/"
        },
        "id": "RXbHWPARUO26",
        "outputId": "fe1a278c-4063-479e-acf1-612bb57accfc"
      },
      "source": [
        "% ls"
      ],
      "execution_count": 14,
      "outputs": [
        {
          "output_type": "stream",
          "text": [
            "\u001b[0m\u001b[01;34mdata\u001b[0m/  index_upd.csv  \u001b[01;34mlogs\u001b[0m/  \u001b[01;34mMNIST\u001b[0m/  \u001b[01;34mmodel_checkpoints\u001b[0m/  \u001b[01;34mresized_data\u001b[0m/\n"
          ],
          "name": "stdout"
        }
      ]
    },
    {
      "cell_type": "markdown",
      "metadata": {
        "id": "71dNHpeYaRMG"
      },
      "source": [
        "Sampling balanced vaild data"
      ]
    },
    {
      "cell_type": "code",
      "metadata": {
        "id": "WKdZviJZaq2z"
      },
      "source": [
        "TRAIN_VAL_SPLIT = 0.15"
      ],
      "execution_count": 15,
      "outputs": []
    },
    {
      "cell_type": "code",
      "metadata": {
        "id": "g6NarfEMaQY4"
      },
      "source": [
        "num_classes = data_df['observed_TCC'].unique().shape[0]"
      ],
      "execution_count": 16,
      "outputs": []
    },
    {
      "cell_type": "code",
      "metadata": {
        "id": "8-3EBTw1af5O"
      },
      "source": [
        "data_classes = []\n",
        "for class_i in range(num_classes):\n",
        "    data_classes.append(data_df[data_df['observed_TCC'] == class_i])"
      ],
      "execution_count": 17,
      "outputs": []
    },
    {
      "cell_type": "code",
      "metadata": {
        "id": "XqDR4J_uaf0h"
      },
      "source": [
        "num_valid_per_class = int(data_df.shape[0] * TRAIN_VAL_SPLIT // num_classes)"
      ],
      "execution_count": 18,
      "outputs": []
    },
    {
      "cell_type": "code",
      "metadata": {
        "id": "MhCJi-HHafqN"
      },
      "source": [
        "class_lengths = [len(s) for s in data_classes]\n",
        "class_random_indexes = [np.random.choice(lenght, size=lenght, replace=False) for lenght in class_lengths]"
      ],
      "execution_count": 19,
      "outputs": []
    },
    {
      "cell_type": "code",
      "metadata": {
        "id": "8C1EBJRea9gy"
      },
      "source": [
        "valid_data = [class_data.iloc[indxs[:num_valid_per_class]] for class_data, indxs in zip(data_classes, class_random_indexes)]\n",
        "train_data = [class_data.iloc[indxs[num_valid_per_class:]] for class_data, indxs in zip(data_classes, class_random_indexes)]"
      ],
      "execution_count": 20,
      "outputs": []
    },
    {
      "cell_type": "code",
      "metadata": {
        "id": "2Eo9Irj2a-yt"
      },
      "source": [
        "valid_data = pd.concat(valid_data, axis = 0).reset_index()\n",
        "train_data = pd.concat(train_data, axis = 0).reset_index()"
      ],
      "execution_count": 21,
      "outputs": []
    },
    {
      "cell_type": "code",
      "metadata": {
        "id": "Eq90GnRtRjuY"
      },
      "source": [
        "image_paths_train = train_data['resized_full_filename']\n",
        "masks_paths_train = train_data['resized_mask_fname']\n",
        "y_train = train_data['observed_TCC']\n",
        "image_paths_valid = valid_data['resized_full_filename']\n",
        "masks_paths_valid = valid_data['resized_mask_fname']\n",
        "y_valid = valid_data['observed_TCC']"
      ],
      "execution_count": 22,
      "outputs": []
    },
    {
      "cell_type": "code",
      "metadata": {
        "id": "KvaFYnuUTNTo"
      },
      "source": [
        "train_dataset = TCCDataset(image_paths_train, masks_paths_train, y_train, mode='train')\n",
        "valid_dataset = TCCDataset(image_paths_valid, masks_paths_valid, y_valid, mode='valid')"
      ],
      "execution_count": 23,
      "outputs": []
    },
    {
      "cell_type": "code",
      "metadata": {
        "id": "llHJPVqtdXYJ"
      },
      "source": [
        "BATCH_SIZE = 75"
      ],
      "execution_count": 24,
      "outputs": []
    },
    {
      "cell_type": "code",
      "metadata": {
        "id": "xyNdqV3ScxA_"
      },
      "source": [
        "train_loader = DataLoader(train_dataset, batch_size=BATCH_SIZE, shuffle=True)\n",
        "valid_loader = DataLoader(valid_dataset, batch_size=BATCH_SIZE, shuffle=False)"
      ],
      "execution_count": 25,
      "outputs": []
    },
    {
      "cell_type": "code",
      "metadata": {
        "id": "uWf3Hm6GW-sV"
      },
      "source": [
        "def imshow(inp, title=None, plt_ax=plt, default=False):\n",
        "    \"\"\"Imshow для тензоров\"\"\"\n",
        "    inp = inp.numpy().transpose((1, 2, 0))\n",
        "    mean = np.array([0.485, 0.456, 0.406])\n",
        "    std = np.array([0.229, 0.224, 0.225])\n",
        "    inp = std * inp + mean\n",
        "    inp = np.clip(inp, 0, 1)\n",
        "    # print(inp)\n",
        "    plt_ax.imshow(inp)\n",
        "    if title is not None:\n",
        "        plt_ax.set_title(title)\n",
        "    plt_ax.grid(False)"
      ],
      "execution_count": 26,
      "outputs": []
    },
    {
      "cell_type": "code",
      "metadata": {
        "id": "jLcePulsiCJ3"
      },
      "source": [
        "# img, label = train_dataset[555]\n",
        "# print(label)\n",
        "# imshow(img.cpu())"
      ],
      "execution_count": 27,
      "outputs": []
    },
    {
      "cell_type": "code",
      "metadata": {
        "id": "VexqjMFhJ0Ls",
        "colab": {
          "base_uri": "https://localhost:8080/",
          "height": 84,
          "referenced_widgets": [
            "0155724cdce140488a2ff167855b756e",
            "7b34ab958ffb4bb68d1babce08cd50e1",
            "cbef34cec1f844e48868857d09016ddc",
            "ac8728ce5bc24bdda480fc5e66132958",
            "746d0b5e52364d8e88ebd2491aecd813",
            "eb55375d1ffe42e582fba566a1a5d381",
            "3bc0c50de617431f9edf6e6ed397ee36",
            "0f4b7ad5af244c1fa146993775c3916f"
          ]
        },
        "outputId": "27d089ca-08ba-4fb8-e4ab-8b209232077c"
      },
      "source": [
        "predictor = torchvision.models.resnet152(pretrained=True)\n",
        "# num_features -- это размерность вектора фич, поступающего на вход FC-слою\n",
        "num_features = 2048\n",
        "num_classes = 9\n",
        "# Заменяем Fully-Connected слой на наш линейный классификатор\n",
        "predictor.fc = nn.Linear(num_features, 1)\n",
        "\n",
        "TCCModel = OrdinalLogisticModel(predictor, num_classes).to(device)"
      ],
      "execution_count": 28,
      "outputs": [
        {
          "output_type": "stream",
          "text": [
            "Downloading: \"https://download.pytorch.org/models/resnet152-b121ed2d.pth\" to /root/.cache/torch/hub/checkpoints/resnet152-b121ed2d.pth\n"
          ],
          "name": "stderr"
        },
        {
          "output_type": "display_data",
          "data": {
            "application/vnd.jupyter.widget-view+json": {
              "model_id": "0155724cdce140488a2ff167855b756e",
              "version_minor": 0,
              "version_major": 2
            },
            "text/plain": [
              "HBox(children=(FloatProgress(value=0.0, max=241530880.0), HTML(value='')))"
            ]
          },
          "metadata": {
            "tags": []
          }
        },
        {
          "output_type": "stream",
          "text": [
            "\n"
          ],
          "name": "stdout"
        }
      ]
    },
    {
      "cell_type": "code",
      "metadata": {
        "id": "XBfBjpMvIGZR"
      },
      "source": [
        "# the optimizer\n",
        "optimizer = torch.optim.Adam(TCCModel.parameters(), lr=1e-3)\n",
        "\n",
        "# the loss\n",
        "from sklearn.utils.class_weight import compute_class_weight\n",
        "criterion = CumulativeLinkLoss(class_weights=torch.tensor(compute_class_weight(class_weight='balanced', classes=np.unique(data_df['observed_TCC']), y=data_df['observed_TCC'])))\n",
        "\n",
        "# loaders\n",
        "loaders = {\"train\": train_loader, \"valid\": valid_loader}"
      ],
      "execution_count": 29,
      "outputs": []
    },
    {
      "cell_type": "code",
      "metadata": {
        "id": "EQPmtbGoZhWr"
      },
      "source": [
        "from catalyst.core.callback import Callback\n",
        "\n",
        "class MyAscensionCallCallback(Callback):\n",
        "    \"\"\"\n",
        "    Ensure that each cutpoint is ordered in ascending value.\n",
        "    e.g.\n",
        "    .. < cutpoint[i - 1] < cutpoint[i] < cutpoint[i + 1] < ...\n",
        "    This is done by clipping the cutpoint values at the end of a batch gradient\n",
        "    update. By no means is this an efficient way to do things, but it works out\n",
        "    of the box with stochastic gradient descent.\n",
        "    Parameters\n",
        "    ----------\n",
        "    margin : float, (default=0.0)\n",
        "        The minimum value between any two adjacent cutpoints.\n",
        "        e.g. enforce that cutpoint[i - 1] + margin < cutpoint[i]\n",
        "    min_val : float, (default=-1e6)\n",
        "        Minimum value that the smallest cutpoint may take.\n",
        "    \"\"\"\n",
        "    def __init__(self, margin: float = 0.0, min_val: float = -1.0e6) -> None:\n",
        "        super().__init__(order=100)\n",
        "        self.margin = margin\n",
        "        self.min_val = min_val\n",
        "\n",
        "    def clip(self, module: nn.Module) -> None:\n",
        "        # We assume the cutpoints parameters are called `cutpoints`.\n",
        "        if isinstance(module, LogisticCumulativeLink):\n",
        "            cutpoints = module.cutpoints.data\n",
        "            for i in range(cutpoints.shape[0] - 1):\n",
        "                cutpoints[i].clamp_(self.min_val,\n",
        "                                    cutpoints[i + 1] - self.margin)\n",
        "\n",
        "    def on_batch_end(self, runner: nn.Module, *args, **kwargs) -> None:\n",
        "        runner.get_model('train').link.apply(self.clip)"
      ],
      "execution_count": 30,
      "outputs": []
    },
    {
      "cell_type": "code",
      "metadata": {
        "id": "2rfz6AR-FSDh"
      },
      "source": [
        "class MySavingCallCallback(Callback):\n",
        "    def __init__(self) -> None:\n",
        "        super().__init__(order=110)\n",
        "    \n",
        "    def on_epoch_end(self, runner: nn.Module, *args, **kwargs) -> None:\n",
        "        torch.save(runner.get_model('train').state_dict(), '/content/gdrive/MyDrive/Deep_Learning/technotrek_spring_2021/homework_5/model_checkpoints/run002.pth')"
      ],
      "execution_count": 31,
      "outputs": []
    },
    {
      "cell_type": "code",
      "metadata": {
        "id": "y60qsgEwcGJz"
      },
      "source": [
        "# runner          \n",
        "runner = dl.SupervisedRunner(\n",
        "            input_key=\"features\", \n",
        "            output_key=\"logits\", \n",
        "            target_key=\"targets\", \n",
        "            loss_key=\"loss\"\n",
        ")"
      ],
      "execution_count": 32,
      "outputs": []
    },
    {
      "cell_type": "code",
      "metadata": {
        "id": "QdaGKXED36Jh"
      },
      "source": [
        "# runner.get_model('train')"
      ],
      "execution_count": null,
      "outputs": []
    },
    {
      "cell_type": "code",
      "metadata": {
        "colab": {
          "base_uri": "https://localhost:8080/",
          "height": 104,
          "referenced_widgets": [
            "a0139cbe3876443da28a01f2f4cc90be",
            "5cd994105d764da585e96a6e69b89159",
            "4f5278b1da864906a770bdc821e4961a",
            "b78e7c00015445d7bfb4cbb06dd5dfe7",
            "20a1ac5530064cc49a36bf767ccc9780",
            "6744f3f9495c456b802bcdba7352b591",
            "c5169dc292ca49e8a2366eb74e2655b4",
            "2b85419392bb4ef9975a67143bd0d5b3"
          ]
        },
        "id": "kJafprvedqgo",
        "outputId": "564b8351-be62-46c4-a6a7-15dc67c1c621"
      },
      "source": [
        "runner.train(\n",
        "    loaders=loaders,\n",
        "    model=TCCModel, criterion=criterion, optimizer=optimizer,\n",
        "    num_epochs=1,\n",
        "    callbacks=[dl.AccuracyCallback(input_key=\"logits\", target_key=\"targets\"),\n",
        "               MyAscensionCallCallback(),\n",
        "               MySavingCallCallback()],\n",
        "    valid_loader=\"valid\",\n",
        "    valid_metric=\"loss\",\n",
        "    minimize_valid_metric=True,\n",
        "    verbose=True,\n",
        "    load_best_on_end=True,\n",
        ")   "
      ],
      "execution_count": null,
      "outputs": [
        {
          "output_type": "display_data",
          "data": {
            "application/vnd.jupyter.widget-view+json": {
              "model_id": "a0139cbe3876443da28a01f2f4cc90be",
              "version_minor": 0,
              "version_major": 2
            },
            "text/plain": [
              "HBox(children=(FloatProgress(value=0.0, description='1/1 * Epoch (train)', max=1044.0, style=ProgressStyle(des…"
            ]
          },
          "metadata": {
            "tags": []
          }
        },
        {
          "output_type": "stream",
          "text": [
            "/usr/local/lib/python3.7/dist-packages/catalyst/core/runner.py:717: UserWarning: To copy construct from a tensor, it is recommended to use sourceTensor.clone().detach() or sourceTensor.clone().detach().requires_grad_(True), rather than torch.tensor(sourceTensor).\n",
            "  for k, v in self.batch_metrics.items()\n"
          ],
          "name": "stderr"
        }
      ]
    },
    {
      "cell_type": "code",
      "metadata": {
        "id": "SzMWo6Urd1Nz"
      },
      "source": [
        "torch.save(TCCModel.state_dict(), '/content/gdrive/MyDrive/Deep_Learning/technotrek_spring_2021/homework_5/model_checkpoints/run001.pth')"
      ],
      "execution_count": null,
      "outputs": []
    },
    {
      "cell_type": "code",
      "metadata": {
        "id": "SvCUKOlohiuq"
      },
      "source": [
        ""
      ],
      "execution_count": null,
      "outputs": []
    }
  ]
}